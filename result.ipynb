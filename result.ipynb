{
 "cells": [
  {
   "cell_type": "code",
   "execution_count": null,
   "metadata": {},
   "outputs": [],
   "source": [
    "# 无中断场景，无备份情况下，总成本最低的单目标优化\n",
    "from ga2 import main as ga2_main\n",
    "ga2_main()"
   ]
  },
  {
   "cell_type": "code",
   "execution_count": null,
   "metadata": {},
   "outputs": [],
   "source": [
    "# 无中断场景，没有备份情况下的多目标优化， \n",
    "# 包含成本 与服务率两个目标\n",
    "from nsga2 import main as nsga2_main\n",
    "nsga2_main()"
   ]
  },
  {
   "cell_type": "code",
   "execution_count": null,
   "metadata": {},
   "outputs": [],
   "source": [
    "# 有中断场景，无备份情况下的多目标优化，属于实验中的对照组\n",
    "from nsga_scene_no_backup import main as nsga_scene_no_backup_main\n",
    "nsga_scene_no_backup_main()"
   ]
  },
  {
   "cell_type": "code",
   "execution_count": null,
   "metadata": {},
   "outputs": [],
   "source": [
    "# 有中断背景，有备份情况下的多目标优化, 类似实验中的实验组\n",
    "\n",
    "from nsga_scene_backup import main as nsga2_with_backup_main\n",
    "mu = 256        # 初始种群的数量\n",
    "ngen = 50       # 迭代次数\n",
    "cxpb = 0.9     # 交叉概率\n",
    "nsga2_with_backup_main(256, 50, 0.9)"
   ]
  }
 ],
 "metadata": {
  "kernelspec": {
   "display_name": "base",
   "language": "python",
   "name": "python3"
  },
  "language_info": {
   "codemirror_mode": {
    "name": "ipython",
    "version": 3
   },
   "file_extension": ".py",
   "mimetype": "text/x-python",
   "name": "python",
   "nbconvert_exporter": "python",
   "pygments_lexer": "ipython3",
   "version": "3.11.5"
  }
 },
 "nbformat": 4,
 "nbformat_minor": 2
}
